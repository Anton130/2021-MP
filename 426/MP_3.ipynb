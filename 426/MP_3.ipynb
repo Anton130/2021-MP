{
 "cells": [
  {
   "cell_type": "code",
   "execution_count": 3,
   "metadata": {},
   "outputs": [
    {
     "name": "stdout",
     "output_type": "stream",
     "text": [
      "Корень  x= 100 ; Значение функции в этой точке  =  49.16700052984223\n"
     ]
    }
   ],
   "source": [
    "import numpy as np\n",
    "import math  \n",
    "\n",
    "# y'+ (2y+1)*ctg(x)=0 - исходное уравнение \n",
    "# y = 1/(2*sin(x)**2) - 1/2 - уравнение после математических преобразований\n",
    "F=lambda x: 1/(2 * np.sin(x)**2)-1\n",
    "a = 0.1    #начальные условия \n",
    "b=100\n",
    "e=10**(-12)   #точность экспоненты\n",
    "i=0\n",
    "def ka(a, b):\n",
    "    global i\n",
    "    i += 1\n",
    "    c = (a + b) / 2\n",
    "    if ((b - a) < e):\n",
    "        return b\n",
    "    if F(b) * F(c) < 0:\n",
    "        a = c\n",
    "        ka(a, b)\n",
    "    else:\n",
    "        b = c\n",
    "        ka(a, b)\n",
    "\n",
    "print(\"Корень  x=\",b , \"; Значение функции в этой точке  = \",F(a))\n"
   ]
  },
  {
   "cell_type": "code",
   "execution_count": null,
   "metadata": {},
   "outputs": [],
   "source": []
  },
  {
   "cell_type": "code",
   "execution_count": null,
   "metadata": {},
   "outputs": [],
   "source": []
  }
 ],
 "metadata": {
  "kernelspec": {
   "display_name": "Python 3",
   "language": "python",
   "name": "python3"
  },
  "language_info": {
   "codemirror_mode": {
    "name": "ipython",
    "version": 3
   },
   "file_extension": ".py",
   "mimetype": "text/x-python",
   "name": "python",
   "nbconvert_exporter": "python",
   "pygments_lexer": "ipython3",
   "version": "3.8.5"
  }
 },
 "nbformat": 4,
 "nbformat_minor": 4
}
